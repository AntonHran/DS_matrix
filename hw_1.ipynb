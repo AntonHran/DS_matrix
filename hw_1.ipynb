{
 "cells": [
  {
   "cell_type": "code",
   "execution_count": 1,
   "id": "b6a86ebc",
   "metadata": {},
   "outputs": [
    {
     "name": "stdout",
     "output_type": "stream",
     "text": [
      "[ 1  2  3  4  5  6  7  8  9 10]\n",
      "[ 1.  2.  3.  4.  5.  6.  7.  8.  9. 10.]\n"
     ]
    }
   ],
   "source": [
    "import numpy as np\n",
    "# 1\n",
    "a_1 = np.arange(1, 11)\n",
    "print(a_1)\n",
    "a_1 = np.linspace(1, 10, num=10)\n",
    "print(a_1)"
   ]
  },
  {
   "cell_type": "code",
   "execution_count": 2,
   "id": "5a732442",
   "metadata": {},
   "outputs": [
    {
     "name": "stdout",
     "output_type": "stream",
     "text": [
      "[[0. 0. 0.]\n",
      " [0. 0. 0.]\n",
      " [0. 0. 0.]]\n"
     ]
    }
   ],
   "source": [
    "# 2\n",
    "a_2 = np.zeros((3, 3), dtype=float)\n",
    "print(a_2)"
   ]
  },
  {
   "cell_type": "code",
   "execution_count": 3,
   "id": "8f5402c8",
   "metadata": {},
   "outputs": [
    {
     "name": "stdout",
     "output_type": "stream",
     "text": [
      "[[3 1 2 4 9]\n",
      " [5 5 2 5 4]\n",
      " [8 9 8 8 3]\n",
      " [1 2 8 4 8]\n",
      " [6 4 3 8 8]]\n"
     ]
    }
   ],
   "source": [
    "# 3\n",
    "a_3 = np.random.randint(1, 10, size=(5, 5))\n",
    "print(a_3)"
   ]
  },
  {
   "cell_type": "code",
   "execution_count": 4,
   "id": "1effa5eb",
   "metadata": {},
   "outputs": [
    {
     "name": "stdout",
     "output_type": "stream",
     "text": [
      "[[0.00145928 0.24722829 0.82017451 0.68445448]\n",
      " [0.81000758 0.60728818 0.04681688 0.67826219]\n",
      " [0.13635135 0.04679199 0.31701697 0.2491402 ]\n",
      " [0.65056545 0.40287065 0.16276953 0.30987923]]\n"
     ]
    }
   ],
   "source": [
    "# 4\n",
    "a_4 = np.random.random((4, 4))\n",
    "print(a_4)"
   ]
  },
  {
   "cell_type": "code",
   "execution_count": 5,
   "id": "bc6a49d8",
   "metadata": {},
   "outputs": [
    {
     "name": "stdout",
     "output_type": "stream",
     "text": [
      "[3 8 8 6 9] [3 9 1 1 4]\n",
      "[ 6 17  9  7 13]\n",
      "[ 0 -1  7  5  5]\n",
      "[ 9 72  8  6 36]\n",
      "[1.         0.88888889 8.         6.         2.25      ]\n"
     ]
    }
   ],
   "source": [
    "# 5\n",
    "a_5_1 = np.random.randint(1, 10, 5)\n",
    "a_5_2 = np.random.randint(1, 10, 5)\n",
    "print(a_5_1, a_5_2)\n",
    "sum_v = a_5_1 + a_5_2\n",
    "print(sum_v)\n",
    "subtraction_v = a_5_1 - a_5_2\n",
    "print(subtraction_v)\n",
    "multiply_v = a_5_1 * a_5_2\n",
    "print(multiply_v)\n",
    "division_v = a_5_1 / a_5_2\n",
    "print(division_v)"
   ]
  },
  {
   "cell_type": "code",
   "execution_count": 6,
   "id": "9d039248",
   "metadata": {},
   "outputs": [
    {
     "name": "stdout",
     "output_type": "stream",
     "text": [
      "[16 97 22 18 78 57 54]\n",
      "[12 56 53 82 38 24 85]\n",
      "17188\n"
     ]
    }
   ],
   "source": [
    "# 6\n",
    "a_6_1 = np.random.randint(100, size=7)\n",
    "a_6_2 = np.random.randint(100, size=7)\n",
    "print(a_6_1)\n",
    "print(a_6_2)\n",
    "scalar_mult = np.dot(a_6_1, a_6_2)\n",
    "print(scalar_mult)"
   ]
  },
  {
   "cell_type": "code",
   "execution_count": 7,
   "id": "795f713b",
   "metadata": {},
   "outputs": [
    {
     "name": "stdout",
     "output_type": "stream",
     "text": [
      "[[33 31 26]\n",
      " [71 60 41]]\n"
     ]
    }
   ],
   "source": [
    "# 7\n",
    "m1 = np.random.randint(1, 10, (2, 2))\n",
    "m2 = np.random.randint(1, 10, (2, 3))\n",
    "mult = np.dot(m1, m2)\n",
    "print(mult)"
   ]
  },
  {
   "cell_type": "code",
   "execution_count": 8,
   "id": "89ca427e",
   "metadata": {},
   "outputs": [
    {
     "name": "stdout",
     "output_type": "stream",
     "text": [
      "[[ 0.         -0.22727273  0.31818182]\n",
      " [ 0.2         0.07272727 -0.18181818]\n",
      " [-0.2         0.2        -0.        ]]\n"
     ]
    }
   ],
   "source": [
    "# 8\n",
    "m1 = np.random.randint(1, 10, (3, 3))\n",
    "m1_inv = np.linalg.inv(m1)\n",
    "print(m1_inv)"
   ]
  },
  {
   "cell_type": "code",
   "execution_count": 10,
   "id": "7d5de47c",
   "metadata": {},
   "outputs": [
    {
     "name": "stdout",
     "output_type": "stream",
     "text": [
      "[[0.47167632 0.18431261 0.47707374 0.72024982]\n",
      " [0.07284127 0.68091046 0.58543594 0.87664238]\n",
      " [0.10130825 0.59761547 0.9224926  0.97762863]\n",
      " [0.57855307 0.45355187 0.00554214 0.97207353]]\n",
      "[[0.47167632 0.07284127 0.10130825 0.57855307]\n",
      " [0.18431261 0.68091046 0.59761547 0.45355187]\n",
      " [0.47707374 0.58543594 0.9224926  0.00554214]\n",
      " [0.72024982 0.87664238 0.97762863 0.97207353]]\n"
     ]
    }
   ],
   "source": [
    "# 9\n",
    "m1 = np.random.random((4, 4))\n",
    "print(m1)\n",
    "m1_t = m1.T\n",
    "print(m1_t)"
   ]
  },
  {
   "cell_type": "code",
   "execution_count": 11,
   "id": "70029c8a",
   "metadata": {},
   "outputs": [
    {
     "name": "stdout",
     "output_type": "stream",
     "text": [
      "[125 127 108]\n"
     ]
    }
   ],
   "source": [
    "# 10\n",
    "m1 = np.random.randint(1, 10, (3, 4))\n",
    "v1 = np.random.randint(1, 10, size=4)\n",
    "mult = np.dot(m1, v1)\n",
    "print(mult)"
   ]
  },
  {
   "cell_type": "code",
   "execution_count": 12,
   "id": "73075beb",
   "metadata": {},
   "outputs": [
    {
     "name": "stdout",
     "output_type": "stream",
     "text": [
      "[1.00702655 1.41897819]\n"
     ]
    }
   ],
   "source": [
    "# 11\n",
    "m1 = np.random.random((2, 3))\n",
    "v1 = np.random.random(3)\n",
    "mult = np.dot(m1, v1)\n",
    "print(mult)"
   ]
  },
  {
   "cell_type": "code",
   "execution_count": 13,
   "id": "537326f8",
   "metadata": {},
   "outputs": [
    {
     "name": "stdout",
     "output_type": "stream",
     "text": [
      "[[ 9 28]\n",
      " [24 28]]\n"
     ]
    }
   ],
   "source": [
    "# 12\n",
    "m1 = np.random.randint(1, 10, (2, 2))\n",
    "m2 = np.random.randint(1, 10, (2, 2))\n",
    "mult = m1 * m2\n",
    "print(mult)"
   ]
  },
  {
   "cell_type": "code",
   "execution_count": 14,
   "id": "b5e2ce3b",
   "metadata": {},
   "outputs": [
    {
     "name": "stdout",
     "output_type": "stream",
     "text": [
      "[[37 50]\n",
      " [23 32]]\n"
     ]
    }
   ],
   "source": [
    "# 13\n",
    "m1 = np.random.randint(1, 10, (2, 2))\n",
    "m2 = np.random.randint(1, 10, (2, 2))\n",
    "mult = np.dot(m1, m2)\n",
    "print(mult)"
   ]
  },
  {
   "cell_type": "code",
   "execution_count": 15,
   "id": "b3a632a6",
   "metadata": {},
   "outputs": [
    {
     "name": "stdout",
     "output_type": "stream",
     "text": [
      "1113\n"
     ]
    }
   ],
   "source": [
    "# 14\n",
    "m1 = np.random.randint(1, 100, (5, 5))\n",
    "sum_el = m1.sum()\n",
    "print(sum_el)"
   ]
  },
  {
   "cell_type": "code",
   "execution_count": 16,
   "id": "14ba2869",
   "metadata": {},
   "outputs": [
    {
     "name": "stdout",
     "output_type": "stream",
     "text": [
      "[[ 5 -5  4  1]\n",
      " [ 2  4  0 -1]\n",
      " [ 4 -1  3 -1]\n",
      " [ 5  2 -2 -1]]\n"
     ]
    }
   ],
   "source": [
    "# 15\n",
    "m1 = np.random.randint(1, 10, (4, 4))\n",
    "m2 = np.random.randint(1, 10, (4, 4))\n",
    "sub = m1 - m2\n",
    "print(sub)"
   ]
  },
  {
   "cell_type": "code",
   "execution_count": 17,
   "id": "1dc24726",
   "metadata": {},
   "outputs": [
    {
     "name": "stdout",
     "output_type": "stream",
     "text": [
      "[2.66282373 1.3939919  0.77294968]\n"
     ]
    }
   ],
   "source": [
    "# 16\n",
    "m1 = np.random.random((3, 3))\n",
    "print(np.sum(m1, axis=1))"
   ]
  },
  {
   "cell_type": "code",
   "execution_count": 18,
   "id": "025eb404",
   "metadata": {},
   "outputs": [
    {
     "name": "stdout",
     "output_type": "stream",
     "text": [
      "[[68 93 17 45]\n",
      " [64  3 67 47]\n",
      " [45 39 92 60]]\n",
      "[[4624 8649  289 2025]\n",
      " [4096    9 4489 2209]\n",
      " [2025 1521 8464 3600]]\n"
     ]
    }
   ],
   "source": [
    "# 17\n",
    "m1 = np.random.randint(100, size=(3, 4))\n",
    "print(m1)\n",
    "print(np.square(m1))"
   ]
  },
  {
   "cell_type": "code",
   "execution_count": 19,
   "id": "289adcfb",
   "metadata": {},
   "outputs": [
    {
     "name": "stdout",
     "output_type": "stream",
     "text": [
      "[16  3  2 12]\n",
      "[4.         1.73205081 1.41421356 3.46410162]\n"
     ]
    }
   ],
   "source": [
    "# 18\n",
    "v1 = np.random.randint(1, 50, size=4)\n",
    "print(v1)\n",
    "print(np.sqrt(v1))"
   ]
  },
  {
   "cell_type": "code",
   "execution_count": null,
   "id": "21a1682d",
   "metadata": {},
   "outputs": [],
   "source": []
  }
 ],
 "metadata": {
  "kernelspec": {
   "display_name": "Python 3 (ipykernel)",
   "language": "python",
   "name": "python3"
  },
  "language_info": {
   "codemirror_mode": {
    "name": "ipython",
    "version": 3
   },
   "file_extension": ".py",
   "mimetype": "text/x-python",
   "name": "python",
   "nbconvert_exporter": "python",
   "pygments_lexer": "ipython3",
   "version": "3.11.5"
  }
 },
 "nbformat": 4,
 "nbformat_minor": 5
}
